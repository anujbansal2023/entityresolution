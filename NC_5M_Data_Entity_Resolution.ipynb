{
 "cells": [
  {
   "cell_type": "code",
   "execution_count": 17,
   "id": "a1187cfa-6d02-4479-b878-d85ecae7f3b0",
   "metadata": {},
   "outputs": [],
   "source": [
    "#Do install apoc and graphdatascience packages in neo4j and neo4j, py2neo and matplotlib before running this notebook\n",
    "#and set apoc.export.file.enabled=true in your apoc.conf\n",
    "#importing required packages\n",
    "\n",
    "from neo4j import GraphDatabase\n",
    "from py2neo import Graph\n",
    "from py2neo.data import Node, Relationship\n",
    "import matplotlib.pyplot as plt\n",
    "import networkx as nx\n",
    "import pandas as pd"
   ]
  },
  {
   "cell_type": "code",
   "execution_count": 2,
   "id": "c50c92b4-4103-4d6b-8677-cdc89d8d5bb0",
   "metadata": {},
   "outputs": [],
   "source": [
    "#creating driver to connect to Neo4j\n",
    "url = \"bolt://localhost:7687\"\n",
    "username = \"neo4j\"\n",
    "password = \"anujbansal\"\n",
    "\n",
    "driver = GraphDatabase.driver(url, auth = (username,password))"
   ]
  },
  {
   "cell_type": "code",
   "execution_count": 3,
   "id": "efae4801-7043-459e-b8a2-787c16cc2d93",
   "metadata": {},
   "outputs": [],
   "source": [
    "#function to run cypher queries\n",
    "def run_cypher_query(query):\n",
    "    with driver.session() as session:\n",
    "        result = session.run(query)\n",
    "        return result.data()"
   ]
  },
  {
   "cell_type": "code",
   "execution_count": 4,
   "id": "d8917e19-085e-4a4c-b630-58e2e756a73e",
   "metadata": {},
   "outputs": [],
   "source": [
    "#cleaning the cypher database\n",
    "\n",
    "query = \"\"\"\n",
    "    Match(n) Detach Delete n;\n",
    "\"\"\"\n",
    "results = run_cypher_query(query)"
   ]
  },
  {
   "cell_type": "code",
   "execution_count": 5,
   "id": "d2f76c61-30df-4d86-910c-562b30ebfc52",
   "metadata": {},
   "outputs": [],
   "source": [
    "#Loading the data file 0 in neo4j\n",
    "query = \"\"\"LOAD CSV WITH HEADERS FROM \"file:///ncvr_numrec_1000000_modrec_2_ocp_20_myp_0_nump_5.csv\" AS row\n",
    "WITH row\n",
    "LIMIT 2000\n",
    "CREATE (x:Recid {Recid:row.recid})\n",
    "SET x.givenname = toupper(apoc.text.replace(row.givenname,'[^a-zA-Z ]', '')),\n",
    "x.surname = toupper(apoc.text.replace(row.surname,'[^a-zA-Z ]', '')),\n",
    "x.suburb = toupper(apoc.text.replace(row.suburb,'[^a-zA-Z0-9 ]', '')),\n",
    "x.postcode = apoc.text.replace(row.postcode,'[^0-9]', ''),\n",
    "x.source = 0,\n",
    "x.matchkey = SUBSTRING(toupper(apoc.text.replace(row.surname,'[^a-zA-Z ]', '')),0,2),\n",
    "x.matchkey2 = SUBSTRING(toupper(apoc.text.replace(row.givenname,'[^a-zA-Z ]', '')),0,2);\"\"\"\n",
    "results = run_cypher_query(query)\n"
   ]
  },
  {
   "cell_type": "code",
   "execution_count": 6,
   "id": "82190c26-c1bc-4130-b7a4-bdfb5a0b8712",
   "metadata": {},
   "outputs": [],
   "source": [
    "#Loading the data file 1 in neo4j\n",
    "query = \"\"\"LOAD CSV WITH HEADERS FROM \"file:///ncvr_numrec_1000000_modrec_2_ocp_20_myp_1_nump_5.csv\" AS row\n",
    "WITH row\n",
    "LIMIT 2000\n",
    "CREATE (x:Recid {Recid:row.recid})\n",
    "SET x.givenname = toupper(apoc.text.replace(row.givenname,'[^a-zA-Z ]', '')),\n",
    "x.surname = toupper(apoc.text.replace(row.surname,'[^a-zA-Z ]', '')),\n",
    "x.suburb = toupper(apoc.text.replace(row.suburb,'[^a-zA-Z0-9 ]', '')),\n",
    "x.postcode = apoc.text.replace(row.postcode,'[^0-9]', ''),\n",
    "x.source = 1,\n",
    "x.matchkey = SUBSTRING(toupper(apoc.text.replace(row.surname,'[^a-zA-Z ]', '')),0,2),\n",
    "x.matchkey2 = SUBSTRING(toupper(apoc.text.replace(row.givenname,'[^a-zA-Z ]', '')),0,2);\"\"\"\n",
    "results = run_cypher_query(query)"
   ]
  },
  {
   "cell_type": "code",
   "execution_count": 7,
   "id": "48151746-9f5a-490b-8f76-f824ba2b32a3",
   "metadata": {},
   "outputs": [],
   "source": [
    "#Loading the data file 2 in neo4j\n",
    "query = \"\"\"LOAD CSV WITH HEADERS FROM \"file:///ncvr_numrec_1000000_modrec_2_ocp_20_myp_2_nump_5.csv\" AS row\n",
    "WITH row\n",
    "LIMIT 2000\n",
    "CREATE (x:Recid {Recid:row.recid})\n",
    "SET x.givenname = toupper(apoc.text.replace(row.givenname,'[^a-zA-Z ]', '')),\n",
    "x.surname = toupper(apoc.text.replace(row.surname,'[^a-zA-Z ]', '')),\n",
    "x.suburb = toupper(apoc.text.replace(row.suburb,'[^a-zA-Z0-9 ]', '')),\n",
    "x.postcode = apoc.text.replace(row.postcode,'[^0-9]', ''),\n",
    "x.source = 2,\n",
    "x.matchkey = SUBSTRING(toupper(apoc.text.replace(row.surname,'[^a-zA-Z ]', '')),0,2),\n",
    "x.matchkey2 = SUBSTRING(toupper(apoc.text.replace(row.givenname,'[^a-zA-Z ]', '')),0,2);\"\"\"\n",
    "results = run_cypher_query(query)"
   ]
  },
  {
   "cell_type": "code",
   "execution_count": 8,
   "id": "e2298432-c603-4177-8cc3-f5d63f43d22a",
   "metadata": {},
   "outputs": [],
   "source": [
    "#Loading the data file 3 in neo4j\n",
    "query = \"\"\"LOAD CSV WITH HEADERS FROM \"file:///ncvr_numrec_1000000_modrec_2_ocp_20_myp_3_nump_5.csv\" AS row\n",
    "WITH row\n",
    "LIMIT 2000\n",
    "CREATE (x:Recid {Recid:row.recid})\n",
    "SET x.givenname = toupper(apoc.text.replace(row.givenname,'[^a-zA-Z ]', '')),\n",
    "x.surname = toupper(apoc.text.replace(row.surname,'[^a-zA-Z ]', '')),\n",
    "x.suburb = toupper(apoc.text.replace(row.suburb,'[^a-zA-Z0-9 ]', '')),\n",
    "x.postcode = apoc.text.replace(row.postcode,'[^0-9]', ''),\n",
    "x.source = 3,\n",
    "x.matchkey = SUBSTRING(toupper(apoc.text.replace(row.surname,'[^a-zA-Z ]', '')),0,2),\n",
    "x.matchkey2 = SUBSTRING(toupper(apoc.text.replace(row.givenname,'[^a-zA-Z ]', '')),0,2);\"\"\"\n",
    "results = run_cypher_query(query)"
   ]
  },
  {
   "cell_type": "code",
   "execution_count": 9,
   "id": "80b79749-1de7-42ba-8897-ed1072552fc0",
   "metadata": {},
   "outputs": [],
   "source": [
    "#Loading the data file 4 in neo4j\n",
    "query = \"\"\"LOAD CSV WITH HEADERS FROM \"file:///ncvr_numrec_1000000_modrec_2_ocp_20_myp_4_nump_5.csv\" AS row\n",
    "WITH row\n",
    "LIMIT 2000\n",
    "CREATE (x:Recid {Recid:row.recid})\n",
    "SET x.givenname = toupper(apoc.text.replace(row.givenname,'[^a-zA-Z ]', '')),\n",
    "x.surname = toupper(apoc.text.replace(row.surname,'[^a-zA-Z ]', '')),\n",
    "x.suburb = toupper(apoc.text.replace(row.suburb,'[^a-zA-Z0-9 ]', '')),\n",
    "x.postcode = apoc.text.replace(row.postcode,'[^0-9]', ''),\n",
    "x.source = 4,\n",
    "x.matchkey = SUBSTRING(toupper(apoc.text.replace(row.surname,'[^a-zA-Z ]', '')),0,2),\n",
    "x.matchkey2 = SUBSTRING(toupper(apoc.text.replace(row.givenname,'[^a-zA-Z ]', '')),0,2);\"\"\"\n",
    "results = run_cypher_query(query)"
   ]
  },
  {
   "cell_type": "code",
   "execution_count": 10,
   "id": "62404c64-ddb6-4a8a-9928-7650d4670117",
   "metadata": {},
   "outputs": [
    {
     "data": {
      "text/plain": [
       "[{'category': 0, 'count': 2000},\n",
       " {'category': 1, 'count': 2000},\n",
       " {'category': 2, 'count': 2000},\n",
       " {'category': 3, 'count': 2000},\n",
       " {'category': 4, 'count': 2000}]"
      ]
     },
     "metadata": {},
     "output_type": "display_data"
    }
   ],
   "source": [
    "query = \"\"\"\n",
    "MATCH (n)\n",
    "WITH n.source AS category, COLLECT(n) AS nodes\n",
    "RETURN category, size(nodes) AS count\n",
    "ORDER BY count DESC;\"\"\"\n",
    "results = run_cypher_query(query)\n",
    "display(results)"
   ]
  },
  {
   "cell_type": "code",
   "execution_count": 11,
   "id": "1d1b8480-480a-48a5-82d3-122e3233c808",
   "metadata": {},
   "outputs": [
    {
     "name": "stdout",
     "output_type": "stream",
     "text": [
      "('KADELYN', {'givenname': 'KADELYN', 'surname': 'GRAGNANI', 'postcode': '2873', 'matchkey': 'GR', 'suburb': 'WAXHAW', 'Recid': '07852009', 'source': 0, 'matchkey2': 'KA'})\n",
      "('RONEL', {'givenname': 'RONEL', 'surname': 'CARTER', 'postcode': '2788', 'matchkey': 'CA', 'suburb': 'WASHINGTON', 'Recid': '03138435', 'source': 0, 'matchkey2': 'RO'})\n",
      "('JASON', {'givenname': 'JASON', 'surname': 'ROEHRIG', 'postcode': '2861', 'matchkey': 'RO', 'suburb': 'MILLERS CEEEK', 'Recid': '06117295', 'source': 0, 'matchkey2': 'JA'})\n",
      "('ANTREA', {'givenname': 'ANTREA', 'surname': 'MURE', 'postcode': '27410', 'matchkey': 'MU', 'suburb': 'GREENSBORO', 'Recid': '06401695', 'source': 0, 'matchkey2': 'AN'})\n",
      "('CAEDAR', {'givenname': 'CAEDAR', 'surname': 'OLIVER', 'postcode': '28542', 'matchkey': 'OL', 'suburb': 'JACKSONVILLE', 'Recid': '05202204', 'source': 0, 'matchkey2': 'CA'})\n",
      "('JONN', {'givenname': 'JONN', 'surname': 'SNYDER', 'postcode': '27549', 'matchkey': 'SN', 'suburb': 'LOUISBUAHG', 'Recid': '04338459', 'source': 0, 'matchkey2': 'JO'})\n",
      "('CHARIE', {'givenname': 'CHARIE', 'surname': 'LYLES', 'postcode': '28676', 'matchkey': 'LY', 'suburb': 'SDATE ROAD', 'Recid': '00795481', 'source': 0, 'matchkey2': 'CH'})\n",
      "('SUSAN', {'givenname': 'SUSAN', 'surname': 'JONES', 'postcode': '2747', 'matchkey': 'JO', 'suburb': 'GREEHSBORO', 'Recid': '03211564', 'source': 0, 'matchkey2': 'SU'})\n",
      "('ZECELYN', {'givenname': 'ZECELYN', 'surname': 'BAUCOM', 'postcode': '28031', 'matchkey': 'BA', 'suburb': 'CORNELIS', 'Recid': '06967293', 'source': 0, 'matchkey2': 'ZE'})\n",
      "('JOYEC', {'givenname': 'JOYEC', 'surname': 'WEBB', 'postcode': '27263', 'matchkey': 'WE', 'suburb': 'ARCHTALE', 'Recid': '01497016', 'source': 0, 'matchkey2': 'JO'})\n"
     ]
    },
    {
     "data": {
      "image/png": "[encoded data removed]",
      "text/plain": [
       "<Figure size 640x480 with 1 Axes>"
      ]
     },
     "metadata": {},
     "output_type": "display_data"
    }
   ],
   "source": [
    "#visulaizing few nodes\n",
    "results = run_cypher_query(\"MATCH (n:Recid) RETURN n LIMIT 10\")\n",
    "\n",
    "\n",
    "# Create an empty NetworkX graph\n",
    "G = nx.Graph()\n",
    "\n",
    "# Add nodes and edges based on the data\n",
    "for entry in results:\n",
    "    node_data = entry['n']\n",
    "    node_id = node_data.get('givenname')  # Use a unique identifier as the node ID\n",
    "    G.add_node(node_id, **node_data)\n",
    "\n",
    "# Display information about the created nodes\n",
    "for node in G.nodes(data=True):\n",
    "    print(node)\n",
    "\n",
    "# Visualize the graph using NetworkX\n",
    "nx.draw(G, with_labels=True, node_size=1000, font_size=10, font_color='black')"
   ]
  },
  {
   "cell_type": "code",
   "execution_count": 12,
   "id": "5fb7f1b5-fe92-4b12-95e6-fca3a891b717",
   "metadata": {},
   "outputs": [],
   "source": [
    "query = \"\"\"\n",
    "//Pre-fix blocking with selecting records from different sources as we assume that each source dont have duplicates\n",
    "MATCH(a:Recid)\n",
    "MATCH(b:Recid)\n",
    "WHERE (a<>b and a.source<>b.source) and (a.matchkey = b.matchkey or a.matchkey2 = b.matchkey2) \n",
    "\n",
    "//calculating similarities using jaroWinklerDistance\n",
    "WITH *, toInteger(100 - apoc.text.jaroWinklerDistance(a.givenname,b.givenname)*100) AS sim1,\n",
    "toInteger(100 - apoc.text.jaroWinklerDistance(a.surname,b.surname)*100) AS sim2,\n",
    "toInteger(100- apoc.text.jaroWinklerDistance(a.suburb,b.suburb)*100) AS sim3,\n",
    "toInteger(100 - apoc.text.jaroWinklerDistance(a.postcode,b.postcode)*100) AS sim4\n",
    "//filetring based on threshold\n",
    "WHERE sim1> 80 and sim2>80 and sim3>50 and sim4>50\n",
    "//creating relationships for identified after threshold\n",
    "MERGE (a)-[r:similar{sim1:sim1,sim2:sim2,sim3:sim3,sim4:sim4}]-(b)\n",
    "\"\"\"\n",
    "results = run_cypher_query(query)"
   ]
  },
  {
   "cell_type": "code",
   "execution_count": 14,
   "id": "7533e111-89b8-435f-8499-8b7b8de91a28",
   "metadata": {},
   "outputs": [],
   "source": [
    "#graph creation in neo4j\n",
    "query = \"\"\"\n",
    "CALL gds.graph.project(\n",
    "\t'mygraph2',\n",
    "\t'Recid',\n",
    "\t{\n",
    "\tsimilar:{\n",
    "\torientation:'UNDIRECTED',\n",
    "\tproperties:['sim1','sim2']\n",
    "\t}\n",
    "\t}\n",
    ")\n",
    "\"\"\"\n",
    "results = run_cypher_query(query)"
   ]
  },
  {
   "cell_type": "code",
   "execution_count": 15,
   "id": "1dd3636a-2d62-4229-b3a8-128faf674570",
   "metadata": {},
   "outputs": [],
   "source": [
    "#entity resolution in neo4j\n",
    "query = \"\"\"\n",
    "CALL gds.labelPropagation.write('mygraph2', { writeProperty: 'community' }) YIELD communityCount, ranIterations, didConverge\n",
    "\"\"\"\n",
    "results = run_cypher_query(query)"
   ]
  },
  {
   "cell_type": "code",
   "execution_count": 16,
   "id": "e4ee78c9-ce34-49a1-8f94-9aea450fa308",
   "metadata": {},
   "outputs": [
    {
     "ename": "ClientError",
     "evalue": "{code: Neo.ClientError.Procedure.ProcedureCallFailed} {message: Failed to invoke procedure `apoc.export.csv.query`: Caused by: java.lang.RuntimeException: Export to files not enabled, please set apoc.export.file.enabled=true in your apoc.conf.\nOtherwise, if you are running in a cloud environment without filesystem access, use the `{stream:true}` config and null as a 'file' parameter to stream the export back to your client.}",
     "output_type": "error",
     "traceback": [
      "\u001b[1;31m---------------------------------------------------------------------------\u001b[0m",
      "\u001b[1;31mClientError\u001b[0m                               Traceback (most recent call last)",
      "Cell \u001b[1;32mIn[16], line 5\u001b[0m\n\u001b[0;32m      1\u001b[0m \u001b[38;5;66;03m#exporting the output\u001b[39;00m\n\u001b[0;32m      2\u001b[0m query \u001b[38;5;241m=\u001b[39m\u001b[38;5;124m\"\"\"\u001b[39m\n\u001b[0;32m      3\u001b[0m \u001b[38;5;124mcall apoc.export.csv.query(\u001b[39m\u001b[38;5;124m\"\u001b[39m\u001b[38;5;124mMatch(n) Return n.Recid, n.community, n.surname, n.givenname,n.postcode,n.suburb\u001b[39m\u001b[38;5;124m\"\u001b[39m\u001b[38;5;124m,\u001b[39m\u001b[38;5;124m\"\u001b[39m\u001b[38;5;124mentities.csv\u001b[39m\u001b[38;5;124m\"\u001b[39m\u001b[38;5;124m,\u001b[39m\u001b[38;5;132;01m{}\u001b[39;00m\u001b[38;5;124m)\u001b[39m\n\u001b[0;32m      4\u001b[0m \u001b[38;5;124m\"\"\"\u001b[39m\n\u001b[1;32m----> 5\u001b[0m results \u001b[38;5;241m=\u001b[39m \u001b[43mrun_cypher_query\u001b[49m\u001b[43m(\u001b[49m\u001b[43mquery\u001b[49m\u001b[43m)\u001b[49m\n",
      "Cell \u001b[1;32mIn[3], line 5\u001b[0m, in \u001b[0;36mrun_cypher_query\u001b[1;34m(query)\u001b[0m\n\u001b[0;32m      3\u001b[0m \u001b[38;5;28;01mwith\u001b[39;00m driver\u001b[38;5;241m.\u001b[39msession() \u001b[38;5;28;01mas\u001b[39;00m session:\n\u001b[0;32m      4\u001b[0m     result \u001b[38;5;241m=\u001b[39m session\u001b[38;5;241m.\u001b[39mrun(query)\n\u001b[1;32m----> 5\u001b[0m     \u001b[38;5;28;01mreturn\u001b[39;00m \u001b[43mresult\u001b[49m\u001b[38;5;241;43m.\u001b[39;49m\u001b[43mdata\u001b[49m\u001b[43m(\u001b[49m\u001b[43m)\u001b[49m\n",
      "File \u001b[1;32m~\\AppData\\Local\\Programs\\Python\\Python311\\Lib\\site-packages\\neo4j\\_sync\\work\\result.py:605\u001b[0m, in \u001b[0;36mResult.data\u001b[1;34m(self, *keys)\u001b[0m\n\u001b[0;32m    581\u001b[0m \u001b[38;5;28;01mdef\u001b[39;00m \u001b[38;5;21mdata\u001b[39m(\u001b[38;5;28mself\u001b[39m, \u001b[38;5;241m*\u001b[39mkeys: _TResultKey) \u001b[38;5;241m-\u001b[39m\u001b[38;5;241m>\u001b[39m t\u001b[38;5;241m.\u001b[39mList[t\u001b[38;5;241m.\u001b[39mDict[\u001b[38;5;28mstr\u001b[39m, t\u001b[38;5;241m.\u001b[39mAny]]:\n\u001b[0;32m    582\u001b[0m \u001b[38;5;250m    \u001b[39m\u001b[38;5;124;03m\"\"\"Return the remainder of the result as a list of dictionaries.\u001b[39;00m\n\u001b[0;32m    583\u001b[0m \n\u001b[0;32m    584\u001b[0m \u001b[38;5;124;03m    This function provides a convenient but opinionated way to obtain the\u001b[39;00m\n\u001b[1;32m   (...)\u001b[0m\n\u001b[0;32m    603\u001b[0m \u001b[38;5;124;03m    .. seealso:: :meth:`.Record.data`\u001b[39;00m\n\u001b[0;32m    604\u001b[0m \u001b[38;5;124;03m    \"\"\"\u001b[39;00m\n\u001b[1;32m--> 605\u001b[0m     \u001b[38;5;28;01mreturn\u001b[39;00m \u001b[43m[\u001b[49m\u001b[43mrecord\u001b[49m\u001b[38;5;241;43m.\u001b[39;49m\u001b[43mdata\u001b[49m\u001b[43m(\u001b[49m\u001b[38;5;241;43m*\u001b[39;49m\u001b[43mkeys\u001b[49m\u001b[43m)\u001b[49m\u001b[43m \u001b[49m\u001b[38;5;28;43;01mfor\u001b[39;49;00m\u001b[43m \u001b[49m\u001b[43mrecord\u001b[49m\u001b[43m \u001b[49m\u001b[38;5;129;43;01min\u001b[39;49;00m\u001b[43m \u001b[49m\u001b[38;5;28;43mself\u001b[39;49m\u001b[43m]\u001b[49m\n",
      "File \u001b[1;32m~\\AppData\\Local\\Programs\\Python\\Python311\\Lib\\site-packages\\neo4j\\_sync\\work\\result.py:605\u001b[0m, in \u001b[0;36m<listcomp>\u001b[1;34m(.0)\u001b[0m\n\u001b[0;32m    581\u001b[0m \u001b[38;5;28;01mdef\u001b[39;00m \u001b[38;5;21mdata\u001b[39m(\u001b[38;5;28mself\u001b[39m, \u001b[38;5;241m*\u001b[39mkeys: _TResultKey) \u001b[38;5;241m-\u001b[39m\u001b[38;5;241m>\u001b[39m t\u001b[38;5;241m.\u001b[39mList[t\u001b[38;5;241m.\u001b[39mDict[\u001b[38;5;28mstr\u001b[39m, t\u001b[38;5;241m.\u001b[39mAny]]:\n\u001b[0;32m    582\u001b[0m \u001b[38;5;250m    \u001b[39m\u001b[38;5;124;03m\"\"\"Return the remainder of the result as a list of dictionaries.\u001b[39;00m\n\u001b[0;32m    583\u001b[0m \n\u001b[0;32m    584\u001b[0m \u001b[38;5;124;03m    This function provides a convenient but opinionated way to obtain the\u001b[39;00m\n\u001b[1;32m   (...)\u001b[0m\n\u001b[0;32m    603\u001b[0m \u001b[38;5;124;03m    .. seealso:: :meth:`.Record.data`\u001b[39;00m\n\u001b[0;32m    604\u001b[0m \u001b[38;5;124;03m    \"\"\"\u001b[39;00m\n\u001b[1;32m--> 605\u001b[0m     \u001b[38;5;28;01mreturn\u001b[39;00m [record\u001b[38;5;241m.\u001b[39mdata(\u001b[38;5;241m*\u001b[39mkeys) \u001b[38;5;28;01mfor\u001b[39;00m record \u001b[38;5;129;01min\u001b[39;00m \u001b[38;5;28mself\u001b[39m]\n",
      "File \u001b[1;32m~\\AppData\\Local\\Programs\\Python\\Python311\\Lib\\site-packages\\neo4j\\_sync\\work\\result.py:251\u001b[0m, in \u001b[0;36mResult.__iter__\u001b[1;34m(self)\u001b[0m\n\u001b[0;32m    249\u001b[0m     \u001b[38;5;28;01myield\u001b[39;00m \u001b[38;5;28mself\u001b[39m\u001b[38;5;241m.\u001b[39m_record_buffer\u001b[38;5;241m.\u001b[39mpopleft()\n\u001b[0;32m    250\u001b[0m \u001b[38;5;28;01melif\u001b[39;00m \u001b[38;5;28mself\u001b[39m\u001b[38;5;241m.\u001b[39m_streaming:\n\u001b[1;32m--> 251\u001b[0m     \u001b[38;5;28;43mself\u001b[39;49m\u001b[38;5;241;43m.\u001b[39;49m\u001b[43m_connection\u001b[49m\u001b[38;5;241;43m.\u001b[39;49m\u001b[43mfetch_message\u001b[49m\u001b[43m(\u001b[49m\u001b[43m)\u001b[49m\n\u001b[0;32m    252\u001b[0m \u001b[38;5;28;01melif\u001b[39;00m \u001b[38;5;28mself\u001b[39m\u001b[38;5;241m.\u001b[39m_discarding:\n\u001b[0;32m    253\u001b[0m     \u001b[38;5;28mself\u001b[39m\u001b[38;5;241m.\u001b[39m_discard()\n",
      "File \u001b[1;32m~\\AppData\\Local\\Programs\\Python\\Python311\\Lib\\site-packages\\neo4j\\_sync\\io\\_common.py:180\u001b[0m, in \u001b[0;36mConnectionErrorHandler.__getattr__.<locals>.outer.<locals>.inner\u001b[1;34m(*args, **kwargs)\u001b[0m\n\u001b[0;32m    178\u001b[0m \u001b[38;5;28;01mdef\u001b[39;00m \u001b[38;5;21minner\u001b[39m(\u001b[38;5;241m*\u001b[39margs, \u001b[38;5;241m*\u001b[39m\u001b[38;5;241m*\u001b[39mkwargs):\n\u001b[0;32m    179\u001b[0m     \u001b[38;5;28;01mtry\u001b[39;00m:\n\u001b[1;32m--> 180\u001b[0m         \u001b[43mfunc\u001b[49m\u001b[43m(\u001b[49m\u001b[38;5;241;43m*\u001b[39;49m\u001b[43margs\u001b[49m\u001b[43m,\u001b[49m\u001b[43m \u001b[49m\u001b[38;5;241;43m*\u001b[39;49m\u001b[38;5;241;43m*\u001b[39;49m\u001b[43mkwargs\u001b[49m\u001b[43m)\u001b[49m\n\u001b[0;32m    181\u001b[0m     \u001b[38;5;28;01mexcept\u001b[39;00m (Neo4jError, ServiceUnavailable, SessionExpired) \u001b[38;5;28;01mas\u001b[39;00m exc:\n\u001b[0;32m    182\u001b[0m         \u001b[38;5;28;01massert\u001b[39;00m \u001b[38;5;129;01mnot\u001b[39;00m asyncio\u001b[38;5;241m.\u001b[39miscoroutinefunction(\u001b[38;5;28mself\u001b[39m\u001b[38;5;241m.\u001b[39m__on_error)\n",
      "File \u001b[1;32m~\\AppData\\Local\\Programs\\Python\\Python311\\Lib\\site-packages\\neo4j\\_sync\\io\\_bolt.py:808\u001b[0m, in \u001b[0;36mBolt.fetch_message\u001b[1;34m(self)\u001b[0m\n\u001b[0;32m    804\u001b[0m \u001b[38;5;66;03m# Receive exactly one message\u001b[39;00m\n\u001b[0;32m    805\u001b[0m tag, fields \u001b[38;5;241m=\u001b[39m \u001b[38;5;28mself\u001b[39m\u001b[38;5;241m.\u001b[39minbox\u001b[38;5;241m.\u001b[39mpop(\n\u001b[0;32m    806\u001b[0m     hydration_hooks\u001b[38;5;241m=\u001b[39m\u001b[38;5;28mself\u001b[39m\u001b[38;5;241m.\u001b[39mresponses[\u001b[38;5;241m0\u001b[39m]\u001b[38;5;241m.\u001b[39mhydration_hooks\n\u001b[0;32m    807\u001b[0m )\n\u001b[1;32m--> 808\u001b[0m res \u001b[38;5;241m=\u001b[39m \u001b[38;5;28;43mself\u001b[39;49m\u001b[38;5;241;43m.\u001b[39;49m\u001b[43m_process_message\u001b[49m\u001b[43m(\u001b[49m\u001b[43mtag\u001b[49m\u001b[43m,\u001b[49m\u001b[43m \u001b[49m\u001b[43mfields\u001b[49m\u001b[43m)\u001b[49m\n\u001b[0;32m    809\u001b[0m \u001b[38;5;28mself\u001b[39m\u001b[38;5;241m.\u001b[39midle_since \u001b[38;5;241m=\u001b[39m perf_counter()\n\u001b[0;32m    810\u001b[0m \u001b[38;5;28;01mreturn\u001b[39;00m res\n",
      "File \u001b[1;32m~\\AppData\\Local\\Programs\\Python\\Python311\\Lib\\site-packages\\neo4j\\_sync\\io\\_bolt5.py:352\u001b[0m, in \u001b[0;36mBolt5x0._process_message\u001b[1;34m(self, tag, fields)\u001b[0m\n\u001b[0;32m    350\u001b[0m \u001b[38;5;28mself\u001b[39m\u001b[38;5;241m.\u001b[39m_server_state_manager\u001b[38;5;241m.\u001b[39mstate \u001b[38;5;241m=\u001b[39m \u001b[38;5;28mself\u001b[39m\u001b[38;5;241m.\u001b[39mserver_states\u001b[38;5;241m.\u001b[39mFAILED\n\u001b[0;32m    351\u001b[0m \u001b[38;5;28;01mtry\u001b[39;00m:\n\u001b[1;32m--> 352\u001b[0m     \u001b[43mresponse\u001b[49m\u001b[38;5;241;43m.\u001b[39;49m\u001b[43mon_failure\u001b[49m\u001b[43m(\u001b[49m\u001b[43msummary_metadata\u001b[49m\u001b[43m \u001b[49m\u001b[38;5;129;43;01mor\u001b[39;49;00m\u001b[43m \u001b[49m\u001b[43m{\u001b[49m\u001b[43m}\u001b[49m\u001b[43m)\u001b[49m\n\u001b[0;32m    353\u001b[0m \u001b[38;5;28;01mexcept\u001b[39;00m (ServiceUnavailable, DatabaseUnavailable):\n\u001b[0;32m    354\u001b[0m     \u001b[38;5;28;01mif\u001b[39;00m \u001b[38;5;28mself\u001b[39m\u001b[38;5;241m.\u001b[39mpool:\n",
      "File \u001b[1;32m~\\AppData\\Local\\Programs\\Python\\Python311\\Lib\\site-packages\\neo4j\\_sync\\io\\_common.py:247\u001b[0m, in \u001b[0;36mResponse.on_failure\u001b[1;34m(self, metadata)\u001b[0m\n\u001b[0;32m    245\u001b[0m handler \u001b[38;5;241m=\u001b[39m \u001b[38;5;28mself\u001b[39m\u001b[38;5;241m.\u001b[39mhandlers\u001b[38;5;241m.\u001b[39mget(\u001b[38;5;124m\"\u001b[39m\u001b[38;5;124mon_summary\u001b[39m\u001b[38;5;124m\"\u001b[39m)\n\u001b[0;32m    246\u001b[0m Util\u001b[38;5;241m.\u001b[39mcallback(handler)\n\u001b[1;32m--> 247\u001b[0m \u001b[38;5;28;01mraise\u001b[39;00m Neo4jError\u001b[38;5;241m.\u001b[39mhydrate(\u001b[38;5;241m*\u001b[39m\u001b[38;5;241m*\u001b[39mmetadata)\n",
      "\u001b[1;31mClientError\u001b[0m: {code: Neo.ClientError.Procedure.ProcedureCallFailed} {message: Failed to invoke procedure `apoc.export.csv.query`: Caused by: java.lang.RuntimeException: Export to files not enabled, please set apoc.export.file.enabled=true in your apoc.conf.\nOtherwise, if you are running in a cloud environment without filesystem access, use the `{stream:true}` config and null as a 'file' parameter to stream the export back to your client.}"
     ]
    }
   ],
   "source": [
    "#exporting the output\n",
    "query =\"\"\"\n",
    "call apoc.export.csv.query(\"Match(n) Return n.Recid, n.community, n.surname, n.givenname,n.postcode,n.suburb,n.source,n.matchkey,n.matchkey2\",\"export2.csv\",{})\n",
    "\"\"\"\n",
    "results = run_cypher_query(query)"
   ]
  },
  {
   "cell_type": "code",
   "execution_count": 16,
   "id": "8f17904d-7265-4f40-9c5e-d8e3b43f07a1",
   "metadata": {},
   "outputs": [],
   "source": [
    "driver.close()"
   ]
  },
  {
   "cell_type": "code",
   "execution_count": 20,
   "id": "47c749b7-d140-43b8-89d8-c54196943655",
   "metadata": {},
   "outputs": [],
   "source": [
    "#import the results csv\n",
    "file_path = r\"C:\\Users\\lenovo\\Desktop\\export2.csv\"\n",
    "df = pd.read_csv (file_path)"
   ]
  },
  {
   "cell_type": "code",
   "execution_count": 21,
   "id": "0c4376c1-1378-493d-ae89-4fb725be1ed1",
   "metadata": {},
   "outputs": [
    {
     "name": "stdout",
     "output_type": "stream",
     "text": [
      "      n.Recid  n.community   n.surname n.givenname n.postcode  \\\n",
      "0  \"07852009\"            0  \"GRAGNANI\"   \"KADELYN\"     \"2873\"   \n",
      "1  \"03138435\"         6001    \"CARTER\"     \"RONEL\"     \"2788\"   \n",
      "2  \"06117295\"         6003   \"ROEHRIG\"     \"JASON\"     \"2861\"   \n",
      "3  \"06401695\"            3      \"MURE\"    \"ANTREA\"    \"27410\"   \n",
      "4  \"05202204\"         4002    \"OLIVER\"    \"CAEDAR\"    \"28542\"   \n",
      "\n",
      "          n.suburb n.matchkey n.matchkey2  \n",
      "0         \"WAXHAW\"       \"GR\"        \"KA\"  \n",
      "1     \"WASHINGTON\"       \"CA\"        \"RO\"  \n",
      "2  \"MILLERS CEEEK\"       \"RO\"        \"JA\"  \n",
      "3     \"GREENSBORO\"       \"MU\"        \"AN\"  \n",
      "4   \"JACKSONVILLE\"       \"OL\"        \"CA\"  \n"
     ]
    }
   ],
   "source": [
    "print(df.head())"
   ]
  },
  {
   "cell_type": "code",
   "execution_count": null,
   "id": "84ac9947-9670-48f4-bac2-888d143d7173",
   "metadata": {},
   "outputs": [],
   "source": []
  }
 ],
 "metadata": {
  "kernelspec": {
   "display_name": "Python 3 (ipykernel)",
   "language": "python",
   "name": "python3"
  },
  "language_info": {
   "codemirror_mode": {
    "name": "ipython",
    "version": 3
   },
   "file_extension": ".py",
   "mimetype": "text/x-python",
   "name": "python",
   "nbconvert_exporter": "python",
   "pygments_lexer": "ipython3",
   "version": "3.11.4"
  }
 },
 "nbformat": 4,
 "nbformat_minor": 5
}
